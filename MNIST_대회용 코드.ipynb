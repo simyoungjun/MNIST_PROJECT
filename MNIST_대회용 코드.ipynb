{
 "cells": [
  {
   "cell_type": "code",
   "execution_count": 1,
   "id": "fef64eb8",
   "metadata": {},
   "outputs": [
    {
     "name": "stdout",
     "output_type": "stream",
     "text": [
      "(20200, 28, 28)\n"
     ]
    }
   ],
   "source": [
    "import numpy as np\n",
    "import matplotlib as mpl\n",
    "import matplotlib.pyplot as plt\n",
    "from PIL import Image\n",
    "import cv2\n",
    "import os\n",
    "from sklearn.model_selection import train_test_split\n",
    "\n",
    "def data_split(X,y,v_t_num, t_num):\n",
    "    X_train, X_test, y_train, y_test = train_test_split( X, y, test_size= v_t_num, stratify = np.array(y),  random_state=42)\n",
    "    X_val, X_test, y_val, y_test = train_test_split( X_test, y_test, test_size= t_num, stratify = np.array(y_test),  random_state=42)\n",
    "    \n",
    "    return X_train, y_train, X_val, y_val, X_test, y_test\n",
    "\n",
    "def mnist_split(X, y, m_num):\n",
    "    X_train, X_val, y_train, y_val = train_test_split( X, y, test_size = 70000-m_num, stratify = np.array(y),  random_state=42)\n",
    "    return X_train, y_train, X_val, y_val\n",
    "\n",
    "def plot_image(image):\n",
    "    plt.figure(figsize=(2,2))\n",
    "    plt.imshow(image, cmap=\"gray\")\n",
    "    plt.axis(\"off\") # 이미지를 출력\n",
    "\n",
    "    \n",
    "#데이터 불러옴    \n",
    "X_d = np.load('./X_mnist.npy')\n",
    "y_d = np.load('./y_mnist.npy')\n",
    "X_boxed = np.load('./X_boxed_all_adTh1_la.npy')\n",
    "y_boxed = np.load('./y_boxed_all_adTh1_la.npy')\n",
    "\n",
    "print(X_boxed.shape)"
   ]
  },
  {
   "cell_type": "code",
   "execution_count": 2,
   "id": "7a1dbac8",
   "metadata": {},
   "outputs": [
    {
     "name": "stdout",
     "output_type": "stream",
     "text": [
      "\n",
      "\n",
      "mnist_num :  20000\n",
      "train_num : (35100, 784) (35100,)\n",
      "val_num : (2600, 784) (2600,)\n",
      "test_num :  (2500, 784) (2500,)\n"
     ]
    }
   ],
   "source": [
    "for m_num in  [20000]:\n",
    "#     m_num = 40000  #합칠 mnist 데이터셋 개수\n",
    "    v_t_num = 5100 #우리가 만든 데이터 셋 중 val,test 데이터로 들어가 개수\n",
    "    t_num = 2500 # 우리가 만든 데이터 셋 중 val,test 데이터로 들어갈 개수\n",
    "    print('\\n')\n",
    "    print(\"mnist_num : \", m_num)\n",
    "#     print(\"ourData_num : \", X_boxed.shape)\n",
    "    \n",
    "    X_trainm, y_trainm, X_valm, y_valm = mnist_split(X_d,y_d, m_num)\n",
    "    X_train, y_train, X_val, y_val, X_test, y_test = data_split(X_boxed, y_boxed, v_t_num, t_num)\n",
    "\n",
    "\n",
    "    X_train = np.concatenate((X_trainm, X_train),axis = 0)\n",
    "    y_train = np.concatenate((y_trainm, y_train),axis = 0)\n",
    "\n",
    "\n",
    "    X_test, y_test = np.array(X_test), np.array(y_test)\n",
    "    X_val, y_val = np.array(X_val), np.array(y_val)\n",
    "\n",
    "    X_train = X_train.reshape(-1,784)\n",
    "    X_val = X_val.reshape(-1,784)\n",
    "    X_test = X_test.reshape(-1,784)\n",
    "    print('train_num :', X_train.shape, y_train.shape)\n",
    "    print('val_num :', X_val.shape, y_val.shape)\n",
    "    print('test_num : ', X_test.shape, y_test.shape)"
   ]
  },
  {
   "cell_type": "code",
   "execution_count": 3,
   "id": "7b6080d4",
   "metadata": {},
   "outputs": [
    {
     "name": "stdout",
     "output_type": "stream",
     "text": [
      "score :  0.9284\n"
     ]
    }
   ],
   "source": [
    "import pickle\n",
    "import sklearn.externals\n",
    "import joblib\n",
    "\n",
    "best_model_1 = joblib.load('best_model_svc.pkl') \n",
    "print( 'score : ' , best_model_1.score(X_test,y_test))"
   ]
  },
  {
   "cell_type": "code",
   "execution_count": null,
   "id": "f67a70a9",
   "metadata": {},
   "outputs": [],
   "source": []
  },
  {
   "cell_type": "code",
   "execution_count": null,
   "id": "d31c8b89",
   "metadata": {},
   "outputs": [],
   "source": [
    "#교수님의 데이터로 돌리는 코드"
   ]
  },
  {
   "cell_type": "code",
   "execution_count": 1,
   "id": "d787f0b2",
   "metadata": {},
   "outputs": [
    {
     "name": "stdout",
     "output_type": "stream",
     "text": [
      "S01.jpeg\n",
      "S02.jpeg\n",
      "S03.jpeg\n",
      "S04.jpeg\n",
      "S05.jpeg\n",
      "S06.jpeg\n",
      "S07.jpeg\n",
      "S08.jpeg\n",
      "S09.jpeg\n",
      "S10.jpeg\n",
      "S11.jpeg\n",
      "S12.jpeg\n",
      "S13.jpeg\n",
      "S14.jpeg\n",
      "S15.jpeg\n",
      "S16.jpeg\n",
      "S17.jpeg\n",
      "S18.jpeg\n",
      "S19.jpeg\n",
      "S20.jpeg\n",
      "S21.jpeg\n",
      "S22.jpeg\n",
      "S23.jpeg\n",
      "S24.jpeg\n",
      "S25.jpeg\n",
      "S26.jpeg\n",
      "S27.jpeg\n",
      "S28.jpeg\n",
      "S29.jpeg\n",
      "S30.jpeg\n",
      "S31.jpeg\n"
     ]
    }
   ],
   "source": [
    "import numpy as np\n",
    "import matplotlib as mpl\n",
    "import matplotlib.pyplot as plt\n",
    "from PIL import Image\n",
    "import cv2\n",
    "import os\n",
    "volume_path = 'C:\\\\Users\\\\IBK\\\\Desktop\\\\mnist_handmade_dataset'\n",
    "# volume_path = './data'\n",
    "\n",
    "ImgPathList =[]\n",
    "\n",
    "for dirName, subdirList, fileList in os.walk(volume_path):\n",
    "    for filename in fileList:\n",
    "        print(filename)\n",
    "        ImgPathList.append(os.path.join(dirName , filename))\n"
   ]
  },
  {
   "cell_type": "code",
   "execution_count": 2,
   "id": "02bbecdd",
   "metadata": {},
   "outputs": [],
   "source": [
    "from sklearn.model_selection import train_test_split\n",
    "\n",
    "def data_split(X,y):\n",
    "    X_train, X_test, y_train, y_test = train_test_split( X, y, test_size=2600, stratify = np.array(y),  random_state=42)\n",
    "    X_val, X_test, y_val, y_test = train_test_split( X_test, y_test, test_size=100, stratify = np.array(y_test),  random_state=42)\n",
    "    \n",
    "    return X_train, y_train, X_val, y_val, X_test, y_test\n",
    "\n",
    "def mnist_split(X,y):\n",
    "    X_train, X_val, y_train, y_val = train_test_split( X, y, test_size = 10000, stratify = np.array(y),  random_state=42)\n",
    "    return X_train, y_train, X_val, y_val\n",
    "\n",
    "def plot_image(image):\n",
    "    plt.figure(figsize=(5,5))\n",
    "    plt.imshow(image, cmap=\"gray\")\n",
    "    plt.axis(\"off\") # 이미지를 출력\n",
    "#     print('image.shape : ',image.shape) # 차원을 확인 (해상도)\n",
    "#     print(image.min(), image.max())\n",
    "\n",
    "###테두리 자르는 코드\n",
    "\n",
    "def slice_sq(img):\n",
    "    min = 380\n",
    "    max = 0\n",
    "#     img = cv2.adaptiveThreshold(img, 255, cv2.ADAPTIVE_THRESH_GAUSSIAN_C, cv2.THRESH_BINARY, 51, 21)\n",
    "\n",
    "    square_r = []\n",
    "    square_c = []\n",
    "    for i in range(380):\n",
    "\n",
    "        if(img[i,img[i] < 200].shape[0] >100):\n",
    "            square_r.append(i)        \n",
    "            square_c = np.where(img[i] < 200)\n",
    "\n",
    "            if(len(square_c[0]> 100)):\n",
    "                for j in range(1,50):\n",
    "                    if(square_c[0][j]+4 == square_c[0][j+1]+3 == square_c[0][j+2]+2 == square_c[0][j+3]+1 == square_c[0][j+4]):\n",
    "                        if min > square_c[0][j]:\n",
    "                            min = square_c[0][j]\n",
    "\n",
    "                    if(square_c[0][-j-4]+4 == square_c[0][-j-3]+3 == square_c[0][-j-2]+2 == square_c[0][-j-1]+1 == square_c[0][-j]):\n",
    "                        if max < square_c[0][-j]:\n",
    "                            max = square_c[0][-j]\n",
    "\n",
    "    up = square_r[0]\n",
    "    down = square_r[-1]\n",
    "\n",
    "    img_s = img[up : down , min : max]\n",
    "\n",
    "    img_rs = cv2.resize(img_s,(340,340))\n",
    "\n",
    "    return img_rs    \n"
   ]
  },
  {
   "cell_type": "code",
   "execution_count": null,
   "id": "02c8db18",
   "metadata": {},
   "outputs": [],
   "source": [
    "##이미지 불러와서 테두리 자른 후 10X10으로 자름\n",
    "arr = np.zeros((1,28,28))\n",
    "y = []\n",
    "for ImgPath in ImgPathList:\n",
    "    img = cv2.imread(ImgPath, cv2.IMREAD_GRAYSCALE)\n",
    "    img = cv2.adaptiveThreshold(img, 255, cv2.ADAPTIVE_THRESH_GAUSSIAN_C, cv2.THRESH_BINARY, 51, 17)\n",
    "#     plot_image(255-img)\n",
    "#     plot_image(img)\n",
    "    \n",
    "    img = slice_sq(img)\n",
    "    pix = 28\n",
    "#     plot_image(img)\n",
    "#     plot_image(255-img)\n",
    "    CF_margin = 4\n",
    "    RF_margin = 3\n",
    "    C_margin = 6\n",
    "    R_margin = 6\n",
    "    \n",
    "    RF_index = RF_margin\n",
    "    RL_index = RF_margin+pix\n",
    "\n",
    "\n",
    "    for i in range(10):\n",
    "        CF_index = CF_margin\n",
    "        CL_index = CF_margin + pix\n",
    "\n",
    "        for j in range(10):\n",
    "            label = j\n",
    "            arr = np.append(arr, np.array([img[RF_index : RL_index, CF_index : CL_index]]), axis = 0)\n",
    "            CF_index = CL_index + C_margin\n",
    "            CL_index += pix + C_margin\n",
    "            y.append(label)\n",
    "        \n",
    "        RF_index = RL_index + R_margin\n",
    "        RL_index += pix + R_margin\n",
    "\n",
    "\n",
    "\n",
    "arr = arr[1:arr.shape[0]]    \n",
    "print(arr.shape)\n",
    "\n",
    "arr = 255 - arr\n",
    "y_ma = y\n",
    "\n",
    "# np.save('./arr_all_yj_5c', boxed)\n",
    "# np.save('./y_ma_all_yj_5c', y_boxed)"
   ]
  },
  {
   "cell_type": "code",
   "execution_count": 4,
   "id": "95b2b751",
   "metadata": {},
   "outputs": [
    {
     "name": "stdout",
     "output_type": "stream",
     "text": [
      "(3000, 28, 28)\n",
      "3000\n"
     ]
    }
   ],
   "source": [
    "#자른 100개 마스크\n",
    "\n",
    "boxed = np.zeros((1,28,28))\n",
    "\n",
    "y_boxed = []\n",
    "\n",
    "for y_in in range(len(y_ma)):\n",
    "\n",
    "    binary = arr[y_in].astype(np.uint8)\n",
    "\n",
    "    contours , hierarchy = cv2.findContours(binary , cv2.RETR_EXTERNAL , cv2.CHAIN_APPROX_SIMPLE)\n",
    "    digit_arr = [] \n",
    "    digit_arr2 = [] \n",
    "    count = 0\n",
    "\n",
    "    box = []    \n",
    "        #검출한 외곽선에 사각형을 그려서 배열에 추가 \n",
    "    larWH = 50\n",
    "    for i in range(len(contours)) : \n",
    "        bin_tmp = binary.copy() \n",
    "        x,y,w,h = cv2.boundingRect(contours[i]) \n",
    "        if w*h > larWH:\n",
    "            bR_arr = [[x,y,w,h]]\n",
    "    \n",
    "# \n",
    "#     bR_arr = sorted(bR_arr, key=lambda num : num[0], reverse = False)\n",
    "\n",
    "    for x,y,w,h in bR_arr :\n",
    "        tmp_y = bin_tmp[y-2:y+h+2,x-2:x+w+2].shape[0]\n",
    "        tmp_x = bin_tmp[y-2:y+h+2,x-2:x+w+2].shape[1]\n",
    "\n",
    "        if tmp_x and tmp_y > 10 :\n",
    "#             cv2.rectangle(color,(x-2,y-2),(x+w+2,y+h+2),(0,0,225),1)\n",
    "#             print(np.array(bin_tmp[y-2:y+h+2,x-2:x+w+2]).shape)\n",
    "            digit_arr = np.array(bin_tmp[y-2:y+h+2,x-2:x+w+2])\n",
    "\n",
    "\n",
    "#             digit_arr = np.array(digit_arr).reshape(height,width)\n",
    "            digit_arr = cv2.resize(digit_arr,(28,28))\n",
    "            boxed = np.append(boxed, np.array([digit_arr]), axis = 0)\n",
    "#             boxed_ag = np.append(boxed_ag,np.array([arr[y_in]]), axis = 0)\n",
    "        \n",
    "        else:\n",
    "            boxed = np.append(boxed, np.array([arr[y_in]]), axis = 0)\n",
    "        \n",
    "        y_boxed.append(y_ma[y_in])\n",
    "        \n",
    "\n",
    "boxed = boxed[1:]\n",
    "\n",
    "print(boxed.shape)\n",
    "print(len(y_boxed))\n",
    "\n",
    "# np.save('./X_boxed_all_adTh1_la_>10', boxed)\n",
    "# np.save('./y_boxed_all_adTh1_la_>10', y_boxed)"
   ]
  },
  {
   "cell_type": "code",
   "execution_count": 7,
   "id": "9d314a29",
   "metadata": {},
   "outputs": [],
   "source": [
    "X_test = boxed\n",
    "X_test = X_test.reshape(-1,784)\n",
    "y_test = y_boxed"
   ]
  },
  {
   "cell_type": "code",
   "execution_count": 8,
   "id": "4e9b9635",
   "metadata": {},
   "outputs": [
    {
     "name": "stdout",
     "output_type": "stream",
     "text": [
      "score :  0.9443333333333334\n"
     ]
    }
   ],
   "source": [
    "import pickle\n",
    "import sklearn.externals\n",
    "import joblib\n",
    "\n",
    "best_model_1 = joblib.load('best_model_svc.pkl') \n",
    "print( 'score : ' , best_model_1.score(X_test,y_test))"
   ]
  }
 ],
 "metadata": {
  "kernelspec": {
   "display_name": "Python 3",
   "language": "python",
   "name": "python3"
  },
  "language_info": {
   "codemirror_mode": {
    "name": "ipython",
    "version": 3
   },
   "file_extension": ".py",
   "mimetype": "text/x-python",
   "name": "python",
   "nbconvert_exporter": "python",
   "pygments_lexer": "ipython3",
   "version": "3.8.8"
  }
 },
 "nbformat": 4,
 "nbformat_minor": 5
}
